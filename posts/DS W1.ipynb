{
 "cells": [
  {
   "cell_type": "raw",
   "id": "97002213-9628-424e-8e56-dbc588645a5a",
   "metadata": {},
   "source": [
    "---\n",
    "title: \"Data Science Week1\"\n",
    "author: \"유성준\"\n",
    "date: \"01/17/2024\"\n",
    "categories: [Machine Learning, Python] \n",
    "---"
   ]
  },
  {
   "cell_type": "markdown",
   "id": "a109be29-d9d9-4f87-a156-7b3f971aac57",
   "metadata": {},
   "source": [
    "# 1주차 - 머신러닝 과정 이해하기"
   ]
  },
  {
   "cell_type": "markdown",
   "id": "72937281-22ce-498b-b3cc-2993e5ae301b",
   "metadata": {},
   "source": [
    "## 학습 목표\n",
    "\n",
    "- 머신러닝 모델을 실행하는 기본 과정을 이해하기 (학습 => 예측 => 평가)\n",
    "- 학습(fit)과 예측(predict)을 하고 평가를 하는 방법\n",
    "- \n",
    "머신러닝 알고리즘 중에 좋은 성능을 내는 boosting 알고리즘의 기본이 되는 DecisionTree 를 사\n",
    "- \r\n",
    "DecisionTree 의 기본적인 원리 이해하기"
   ]
  },
  {
   "cell_type": "markdown",
   "id": "d33142dc-d676-4753-87e1-06e31e9d2301",
   "metadata": {},
   "source": [
    "## 데이터셋\n",
    "\n",
    "- 통신사 고객 이탈 정보 : Kaggle 데이터셋( https://www.kaggle.com/blastchar/telco-customer-churn )\n",
    "- 구성 : 고객 인구 통계 정보, 고객 이탈, 서비스 가입 정보, 고객 계정 정보 등등"
   ]
  },
  {
   "cell_type": "markdown",
   "id": "d0ba3968-35fb-42cd-aad5-58a24164ac87",
   "metadata": {},
   "source": [
    "## 이번 학습을 적용시킬 수 있는 현실 문제\n",
    "\n",
    "- 이탈 예측 모델링, 고객 세분화, 원인 분석, 추천 시스템 개선, 고객 유지 전략 개발 등등"
   ]
  },
  {
   "cell_type": "markdown",
   "id": "107ff7ac-7e45-4ef9-a7c8-75b6e40c9930",
   "metadata": {},
   "source": [
    "## 실습"
   ]
  },
  {
   "cell_type": "code",
   "execution_count": 2,
   "id": "9577376a-9798-4444-beea-a992fcf8b406",
   "metadata": {},
   "outputs": [],
   "source": [
    "# 필요한 라이브러리를 로드\n",
    "import pandas as pd\n",
    "import numpy as np\n",
    "import seaborn as sns\n",
    "import matplotlib.pyplot as plt"
   ]
  },
  {
   "cell_type": "code",
   "execution_count": 11,
   "id": "bd63a905-c877-4157-9ad4-99bc76d4fbbb",
   "metadata": {},
   "outputs": [
    {
     "data": {
      "text/html": [
       "<div>\n",
       "<style scoped>\n",
       "    .dataframe tbody tr th:only-of-type {\n",
       "        vertical-align: middle;\n",
       "    }\n",
       "\n",
       "    .dataframe tbody tr th {\n",
       "        vertical-align: top;\n",
       "    }\n",
       "\n",
       "    .dataframe thead th {\n",
       "        text-align: right;\n",
       "    }\n",
       "</style>\n",
       "<table border=\"1\" class=\"dataframe\">\n",
       "  <thead>\n",
       "    <tr style=\"text-align: right;\">\n",
       "      <th></th>\n",
       "      <th>gender</th>\n",
       "      <th>SeniorCitizen</th>\n",
       "      <th>Partner</th>\n",
       "      <th>Dependents</th>\n",
       "      <th>tenure</th>\n",
       "      <th>PhoneService</th>\n",
       "      <th>MultipleLines</th>\n",
       "      <th>InternetService</th>\n",
       "      <th>OnlineSecurity</th>\n",
       "      <th>OnlineBackup</th>\n",
       "      <th>DeviceProtection</th>\n",
       "      <th>TechSupport</th>\n",
       "      <th>StreamingTV</th>\n",
       "      <th>StreamingMovies</th>\n",
       "      <th>Contract</th>\n",
       "      <th>PaperlessBilling</th>\n",
       "      <th>PaymentMethod</th>\n",
       "      <th>MonthlyCharges</th>\n",
       "      <th>TotalCharges</th>\n",
       "      <th>Churn</th>\n",
       "    </tr>\n",
       "    <tr>\n",
       "      <th>customerID</th>\n",
       "      <th></th>\n",
       "      <th></th>\n",
       "      <th></th>\n",
       "      <th></th>\n",
       "      <th></th>\n",
       "      <th></th>\n",
       "      <th></th>\n",
       "      <th></th>\n",
       "      <th></th>\n",
       "      <th></th>\n",
       "      <th></th>\n",
       "      <th></th>\n",
       "      <th></th>\n",
       "      <th></th>\n",
       "      <th></th>\n",
       "      <th></th>\n",
       "      <th></th>\n",
       "      <th></th>\n",
       "      <th></th>\n",
       "      <th></th>\n",
       "    </tr>\n",
       "  </thead>\n",
       "  <tbody>\n",
       "    <tr>\n",
       "      <th>7590-VHVEG</th>\n",
       "      <td>Female</td>\n",
       "      <td>0</td>\n",
       "      <td>Yes</td>\n",
       "      <td>No</td>\n",
       "      <td>1</td>\n",
       "      <td>No</td>\n",
       "      <td>No phone service</td>\n",
       "      <td>DSL</td>\n",
       "      <td>No</td>\n",
       "      <td>Yes</td>\n",
       "      <td>No</td>\n",
       "      <td>No</td>\n",
       "      <td>No</td>\n",
       "      <td>No</td>\n",
       "      <td>Month-to-month</td>\n",
       "      <td>Yes</td>\n",
       "      <td>Electronic check</td>\n",
       "      <td>29.85</td>\n",
       "      <td>29.85</td>\n",
       "      <td>No</td>\n",
       "    </tr>\n",
       "    <tr>\n",
       "      <th>5575-GNVDE</th>\n",
       "      <td>Male</td>\n",
       "      <td>0</td>\n",
       "      <td>No</td>\n",
       "      <td>No</td>\n",
       "      <td>34</td>\n",
       "      <td>Yes</td>\n",
       "      <td>No</td>\n",
       "      <td>DSL</td>\n",
       "      <td>Yes</td>\n",
       "      <td>No</td>\n",
       "      <td>Yes</td>\n",
       "      <td>No</td>\n",
       "      <td>No</td>\n",
       "      <td>No</td>\n",
       "      <td>One year</td>\n",
       "      <td>No</td>\n",
       "      <td>Mailed check</td>\n",
       "      <td>56.95</td>\n",
       "      <td>1889.5</td>\n",
       "      <td>No</td>\n",
       "    </tr>\n",
       "  </tbody>\n",
       "</table>\n",
       "</div>"
      ],
      "text/plain": [
       "            gender  SeniorCitizen Partner Dependents  tenure PhoneService  \\\n",
       "customerID                                                                  \n",
       "7590-VHVEG  Female              0     Yes         No       1           No   \n",
       "5575-GNVDE    Male              0      No         No      34          Yes   \n",
       "\n",
       "               MultipleLines InternetService OnlineSecurity OnlineBackup  \\\n",
       "customerID                                                                 \n",
       "7590-VHVEG  No phone service             DSL             No          Yes   \n",
       "5575-GNVDE                No             DSL            Yes           No   \n",
       "\n",
       "           DeviceProtection TechSupport StreamingTV StreamingMovies  \\\n",
       "customerID                                                            \n",
       "7590-VHVEG               No          No          No              No   \n",
       "5575-GNVDE              Yes          No          No              No   \n",
       "\n",
       "                  Contract PaperlessBilling     PaymentMethod  MonthlyCharges  \\\n",
       "customerID                                                                      \n",
       "7590-VHVEG  Month-to-month              Yes  Electronic check           29.85   \n",
       "5575-GNVDE        One year               No      Mailed check           56.95   \n",
       "\n",
       "           TotalCharges Churn  \n",
       "customerID                     \n",
       "7590-VHVEG        29.85    No  \n",
       "5575-GNVDE       1889.5    No  "
      ]
     },
     "execution_count": 11,
     "metadata": {},
     "output_type": "execute_result"
    }
   ],
   "source": [
    "# 데이터 로드\n",
    "df = pd.read_csv(\"https://bit.ly/telco-csv\", index_col=\"customerID\")\n",
    "df.head(2)"
   ]
  },
  {
   "cell_type": "code",
   "execution_count": 12,
   "id": "7808d6c3-150c-4239-9fc2-d8c879ae33e0",
   "metadata": {},
   "outputs": [
    {
     "name": "stdout",
     "output_type": "stream",
     "text": [
      "<class 'pandas.core.frame.DataFrame'>\n",
      "Index: 7043 entries, 7590-VHVEG to 3186-AJIEK\n",
      "Data columns (total 20 columns):\n",
      " #   Column            Non-Null Count  Dtype  \n",
      "---  ------            --------------  -----  \n",
      " 0   gender            7043 non-null   object \n",
      " 1   SeniorCitizen     7043 non-null   int64  \n",
      " 2   Partner           7043 non-null   object \n",
      " 3   Dependents        7043 non-null   object \n",
      " 4   tenure            7043 non-null   int64  \n",
      " 5   PhoneService      7043 non-null   object \n",
      " 6   MultipleLines     7043 non-null   object \n",
      " 7   InternetService   7043 non-null   object \n",
      " 8   OnlineSecurity    7043 non-null   object \n",
      " 9   OnlineBackup      7043 non-null   object \n",
      " 10  DeviceProtection  7043 non-null   object \n",
      " 11  TechSupport       7043 non-null   object \n",
      " 12  StreamingTV       7043 non-null   object \n",
      " 13  StreamingMovies   7043 non-null   object \n",
      " 14  Contract          7043 non-null   object \n",
      " 15  PaperlessBilling  7043 non-null   object \n",
      " 16  PaymentMethod     7043 non-null   object \n",
      " 17  MonthlyCharges    7043 non-null   float64\n",
      " 18  TotalCharges      7043 non-null   object \n",
      " 19  Churn             7043 non-null   object \n",
      "dtypes: float64(1), int64(2), object(17)\n",
      "memory usage: 1.1+ MB\n"
     ]
    }
   ],
   "source": [
    "df.info()"
   ]
  },
  {
   "cell_type": "code",
   "execution_count": 13,
   "id": "d39efb5b-1236-43ce-a66b-0a85316f4dc9",
   "metadata": {},
   "outputs": [],
   "source": [
    "# 숫자형태의 문자열을 숫자형으로 전환\n",
    "df[\"TotalCharges\"] = df[\"TotalCharges\"].str.strip().replace(\"\", np.nan).astype(float)"
   ]
  },
  {
   "cell_type": "code",
   "execution_count": 14,
   "id": "9529a955-7f24-4989-a3c0-f84ae3060e6e",
   "metadata": {},
   "outputs": [
    {
     "data": {
      "text/plain": [
       "0"
      ]
     },
     "execution_count": 14,
     "metadata": {},
     "output_type": "execute_result"
    }
   ],
   "source": [
    "# 결측치 제거(결측치를 채우는 방법도 존재한다)\n",
    "df = df.dropna()\n",
    "df.isnull().sum().sum()"
   ]
  },
  {
   "cell_type": "code",
   "execution_count": 15,
   "id": "2c49355e-217a-448c-8036-968e2df034aa",
   "metadata": {},
   "outputs": [
    {
     "data": {
      "text/plain": [
       "Index(['gender', 'SeniorCitizen', 'Partner', 'Dependents', 'PhoneService',\n",
       "       'PaperlessBilling', 'Churn'],\n",
       "      dtype='object')"
      ]
     },
     "execution_count": 15,
     "metadata": {},
     "output_type": "execute_result"
    }
   ],
   "source": [
    "# 바이너리 변수 인코딩을 위해 범주 값이 2개로 되어 있는 이진값으로 인코딩이 가능한 변수 탐색\n",
    "nuniq = df.nunique()\n",
    "bi_cols = nuniq[nuniq == 2].index\n",
    "bi_cols"
   ]
  },
  {
   "cell_type": "code",
   "execution_count": 16,
   "id": "db45e959-7d1c-41ef-9fb3-4ce8fde11597",
   "metadata": {},
   "outputs": [
    {
     "data": {
      "text/html": [
       "<div>\n",
       "<style scoped>\n",
       "    .dataframe tbody tr th:only-of-type {\n",
       "        vertical-align: middle;\n",
       "    }\n",
       "\n",
       "    .dataframe tbody tr th {\n",
       "        vertical-align: top;\n",
       "    }\n",
       "\n",
       "    .dataframe thead th {\n",
       "        text-align: right;\n",
       "    }\n",
       "</style>\n",
       "<table border=\"1\" class=\"dataframe\">\n",
       "  <thead>\n",
       "    <tr style=\"text-align: right;\">\n",
       "      <th></th>\n",
       "      <th>gender</th>\n",
       "      <th>SeniorCitizen</th>\n",
       "      <th>Partner</th>\n",
       "      <th>Dependents</th>\n",
       "      <th>tenure</th>\n",
       "      <th>PhoneService</th>\n",
       "      <th>MultipleLines</th>\n",
       "      <th>InternetService</th>\n",
       "      <th>OnlineSecurity</th>\n",
       "      <th>OnlineBackup</th>\n",
       "      <th>...</th>\n",
       "      <th>PaperlessBilling</th>\n",
       "      <th>PaymentMethod</th>\n",
       "      <th>MonthlyCharges</th>\n",
       "      <th>TotalCharges</th>\n",
       "      <th>Churn</th>\n",
       "      <th>gender_encode</th>\n",
       "      <th>Partner_encode</th>\n",
       "      <th>Dependents_encode</th>\n",
       "      <th>PhoneService_encode</th>\n",
       "      <th>PaperlessBilling_encode</th>\n",
       "    </tr>\n",
       "    <tr>\n",
       "      <th>customerID</th>\n",
       "      <th></th>\n",
       "      <th></th>\n",
       "      <th></th>\n",
       "      <th></th>\n",
       "      <th></th>\n",
       "      <th></th>\n",
       "      <th></th>\n",
       "      <th></th>\n",
       "      <th></th>\n",
       "      <th></th>\n",
       "      <th></th>\n",
       "      <th></th>\n",
       "      <th></th>\n",
       "      <th></th>\n",
       "      <th></th>\n",
       "      <th></th>\n",
       "      <th></th>\n",
       "      <th></th>\n",
       "      <th></th>\n",
       "      <th></th>\n",
       "      <th></th>\n",
       "    </tr>\n",
       "  </thead>\n",
       "  <tbody>\n",
       "    <tr>\n",
       "      <th>7590-VHVEG</th>\n",
       "      <td>Female</td>\n",
       "      <td>0</td>\n",
       "      <td>Yes</td>\n",
       "      <td>No</td>\n",
       "      <td>1</td>\n",
       "      <td>No</td>\n",
       "      <td>No phone service</td>\n",
       "      <td>DSL</td>\n",
       "      <td>No</td>\n",
       "      <td>Yes</td>\n",
       "      <td>...</td>\n",
       "      <td>Yes</td>\n",
       "      <td>Electronic check</td>\n",
       "      <td>29.85</td>\n",
       "      <td>29.85</td>\n",
       "      <td>No</td>\n",
       "      <td>0</td>\n",
       "      <td>1</td>\n",
       "      <td>0</td>\n",
       "      <td>0</td>\n",
       "      <td>1</td>\n",
       "    </tr>\n",
       "    <tr>\n",
       "      <th>5575-GNVDE</th>\n",
       "      <td>Male</td>\n",
       "      <td>0</td>\n",
       "      <td>No</td>\n",
       "      <td>No</td>\n",
       "      <td>34</td>\n",
       "      <td>Yes</td>\n",
       "      <td>No</td>\n",
       "      <td>DSL</td>\n",
       "      <td>Yes</td>\n",
       "      <td>No</td>\n",
       "      <td>...</td>\n",
       "      <td>No</td>\n",
       "      <td>Mailed check</td>\n",
       "      <td>56.95</td>\n",
       "      <td>1889.50</td>\n",
       "      <td>No</td>\n",
       "      <td>1</td>\n",
       "      <td>0</td>\n",
       "      <td>0</td>\n",
       "      <td>1</td>\n",
       "      <td>0</td>\n",
       "    </tr>\n",
       "    <tr>\n",
       "      <th>3668-QPYBK</th>\n",
       "      <td>Male</td>\n",
       "      <td>0</td>\n",
       "      <td>No</td>\n",
       "      <td>No</td>\n",
       "      <td>2</td>\n",
       "      <td>Yes</td>\n",
       "      <td>No</td>\n",
       "      <td>DSL</td>\n",
       "      <td>Yes</td>\n",
       "      <td>Yes</td>\n",
       "      <td>...</td>\n",
       "      <td>Yes</td>\n",
       "      <td>Mailed check</td>\n",
       "      <td>53.85</td>\n",
       "      <td>108.15</td>\n",
       "      <td>Yes</td>\n",
       "      <td>1</td>\n",
       "      <td>0</td>\n",
       "      <td>0</td>\n",
       "      <td>1</td>\n",
       "      <td>1</td>\n",
       "    </tr>\n",
       "    <tr>\n",
       "      <th>7795-CFOCW</th>\n",
       "      <td>Male</td>\n",
       "      <td>0</td>\n",
       "      <td>No</td>\n",
       "      <td>No</td>\n",
       "      <td>45</td>\n",
       "      <td>No</td>\n",
       "      <td>No phone service</td>\n",
       "      <td>DSL</td>\n",
       "      <td>Yes</td>\n",
       "      <td>No</td>\n",
       "      <td>...</td>\n",
       "      <td>No</td>\n",
       "      <td>Bank transfer (automatic)</td>\n",
       "      <td>42.30</td>\n",
       "      <td>1840.75</td>\n",
       "      <td>No</td>\n",
       "      <td>1</td>\n",
       "      <td>0</td>\n",
       "      <td>0</td>\n",
       "      <td>0</td>\n",
       "      <td>0</td>\n",
       "    </tr>\n",
       "    <tr>\n",
       "      <th>9237-HQITU</th>\n",
       "      <td>Female</td>\n",
       "      <td>0</td>\n",
       "      <td>No</td>\n",
       "      <td>No</td>\n",
       "      <td>2</td>\n",
       "      <td>Yes</td>\n",
       "      <td>No</td>\n",
       "      <td>Fiber optic</td>\n",
       "      <td>No</td>\n",
       "      <td>No</td>\n",
       "      <td>...</td>\n",
       "      <td>Yes</td>\n",
       "      <td>Electronic check</td>\n",
       "      <td>70.70</td>\n",
       "      <td>151.65</td>\n",
       "      <td>Yes</td>\n",
       "      <td>0</td>\n",
       "      <td>0</td>\n",
       "      <td>0</td>\n",
       "      <td>1</td>\n",
       "      <td>1</td>\n",
       "    </tr>\n",
       "    <tr>\n",
       "      <th>...</th>\n",
       "      <td>...</td>\n",
       "      <td>...</td>\n",
       "      <td>...</td>\n",
       "      <td>...</td>\n",
       "      <td>...</td>\n",
       "      <td>...</td>\n",
       "      <td>...</td>\n",
       "      <td>...</td>\n",
       "      <td>...</td>\n",
       "      <td>...</td>\n",
       "      <td>...</td>\n",
       "      <td>...</td>\n",
       "      <td>...</td>\n",
       "      <td>...</td>\n",
       "      <td>...</td>\n",
       "      <td>...</td>\n",
       "      <td>...</td>\n",
       "      <td>...</td>\n",
       "      <td>...</td>\n",
       "      <td>...</td>\n",
       "      <td>...</td>\n",
       "    </tr>\n",
       "    <tr>\n",
       "      <th>6840-RESVB</th>\n",
       "      <td>Male</td>\n",
       "      <td>0</td>\n",
       "      <td>Yes</td>\n",
       "      <td>Yes</td>\n",
       "      <td>24</td>\n",
       "      <td>Yes</td>\n",
       "      <td>Yes</td>\n",
       "      <td>DSL</td>\n",
       "      <td>Yes</td>\n",
       "      <td>No</td>\n",
       "      <td>...</td>\n",
       "      <td>Yes</td>\n",
       "      <td>Mailed check</td>\n",
       "      <td>84.80</td>\n",
       "      <td>1990.50</td>\n",
       "      <td>No</td>\n",
       "      <td>1</td>\n",
       "      <td>1</td>\n",
       "      <td>1</td>\n",
       "      <td>1</td>\n",
       "      <td>1</td>\n",
       "    </tr>\n",
       "    <tr>\n",
       "      <th>2234-XADUH</th>\n",
       "      <td>Female</td>\n",
       "      <td>0</td>\n",
       "      <td>Yes</td>\n",
       "      <td>Yes</td>\n",
       "      <td>72</td>\n",
       "      <td>Yes</td>\n",
       "      <td>Yes</td>\n",
       "      <td>Fiber optic</td>\n",
       "      <td>No</td>\n",
       "      <td>Yes</td>\n",
       "      <td>...</td>\n",
       "      <td>Yes</td>\n",
       "      <td>Credit card (automatic)</td>\n",
       "      <td>103.20</td>\n",
       "      <td>7362.90</td>\n",
       "      <td>No</td>\n",
       "      <td>0</td>\n",
       "      <td>1</td>\n",
       "      <td>1</td>\n",
       "      <td>1</td>\n",
       "      <td>1</td>\n",
       "    </tr>\n",
       "    <tr>\n",
       "      <th>4801-JZAZL</th>\n",
       "      <td>Female</td>\n",
       "      <td>0</td>\n",
       "      <td>Yes</td>\n",
       "      <td>Yes</td>\n",
       "      <td>11</td>\n",
       "      <td>No</td>\n",
       "      <td>No phone service</td>\n",
       "      <td>DSL</td>\n",
       "      <td>Yes</td>\n",
       "      <td>No</td>\n",
       "      <td>...</td>\n",
       "      <td>Yes</td>\n",
       "      <td>Electronic check</td>\n",
       "      <td>29.60</td>\n",
       "      <td>346.45</td>\n",
       "      <td>No</td>\n",
       "      <td>0</td>\n",
       "      <td>1</td>\n",
       "      <td>1</td>\n",
       "      <td>0</td>\n",
       "      <td>1</td>\n",
       "    </tr>\n",
       "    <tr>\n",
       "      <th>8361-LTMKD</th>\n",
       "      <td>Male</td>\n",
       "      <td>1</td>\n",
       "      <td>Yes</td>\n",
       "      <td>No</td>\n",
       "      <td>4</td>\n",
       "      <td>Yes</td>\n",
       "      <td>Yes</td>\n",
       "      <td>Fiber optic</td>\n",
       "      <td>No</td>\n",
       "      <td>No</td>\n",
       "      <td>...</td>\n",
       "      <td>Yes</td>\n",
       "      <td>Mailed check</td>\n",
       "      <td>74.40</td>\n",
       "      <td>306.60</td>\n",
       "      <td>Yes</td>\n",
       "      <td>1</td>\n",
       "      <td>1</td>\n",
       "      <td>0</td>\n",
       "      <td>1</td>\n",
       "      <td>1</td>\n",
       "    </tr>\n",
       "    <tr>\n",
       "      <th>3186-AJIEK</th>\n",
       "      <td>Male</td>\n",
       "      <td>0</td>\n",
       "      <td>No</td>\n",
       "      <td>No</td>\n",
       "      <td>66</td>\n",
       "      <td>Yes</td>\n",
       "      <td>No</td>\n",
       "      <td>Fiber optic</td>\n",
       "      <td>Yes</td>\n",
       "      <td>No</td>\n",
       "      <td>...</td>\n",
       "      <td>Yes</td>\n",
       "      <td>Bank transfer (automatic)</td>\n",
       "      <td>105.65</td>\n",
       "      <td>6844.50</td>\n",
       "      <td>No</td>\n",
       "      <td>1</td>\n",
       "      <td>0</td>\n",
       "      <td>0</td>\n",
       "      <td>1</td>\n",
       "      <td>1</td>\n",
       "    </tr>\n",
       "  </tbody>\n",
       "</table>\n",
       "<p>7032 rows × 25 columns</p>\n",
       "</div>"
      ],
      "text/plain": [
       "            gender  SeniorCitizen Partner Dependents  tenure PhoneService  \\\n",
       "customerID                                                                  \n",
       "7590-VHVEG  Female              0     Yes         No       1           No   \n",
       "5575-GNVDE    Male              0      No         No      34          Yes   \n",
       "3668-QPYBK    Male              0      No         No       2          Yes   \n",
       "7795-CFOCW    Male              0      No         No      45           No   \n",
       "9237-HQITU  Female              0      No         No       2          Yes   \n",
       "...            ...            ...     ...        ...     ...          ...   \n",
       "6840-RESVB    Male              0     Yes        Yes      24          Yes   \n",
       "2234-XADUH  Female              0     Yes        Yes      72          Yes   \n",
       "4801-JZAZL  Female              0     Yes        Yes      11           No   \n",
       "8361-LTMKD    Male              1     Yes         No       4          Yes   \n",
       "3186-AJIEK    Male              0      No         No      66          Yes   \n",
       "\n",
       "               MultipleLines InternetService OnlineSecurity OnlineBackup  ...  \\\n",
       "customerID                                                                ...   \n",
       "7590-VHVEG  No phone service             DSL             No          Yes  ...   \n",
       "5575-GNVDE                No             DSL            Yes           No  ...   \n",
       "3668-QPYBK                No             DSL            Yes          Yes  ...   \n",
       "7795-CFOCW  No phone service             DSL            Yes           No  ...   \n",
       "9237-HQITU                No     Fiber optic             No           No  ...   \n",
       "...                      ...             ...            ...          ...  ...   \n",
       "6840-RESVB               Yes             DSL            Yes           No  ...   \n",
       "2234-XADUH               Yes     Fiber optic             No          Yes  ...   \n",
       "4801-JZAZL  No phone service             DSL            Yes           No  ...   \n",
       "8361-LTMKD               Yes     Fiber optic             No           No  ...   \n",
       "3186-AJIEK                No     Fiber optic            Yes           No  ...   \n",
       "\n",
       "           PaperlessBilling              PaymentMethod MonthlyCharges  \\\n",
       "customerID                                                              \n",
       "7590-VHVEG              Yes           Electronic check          29.85   \n",
       "5575-GNVDE               No               Mailed check          56.95   \n",
       "3668-QPYBK              Yes               Mailed check          53.85   \n",
       "7795-CFOCW               No  Bank transfer (automatic)          42.30   \n",
       "9237-HQITU              Yes           Electronic check          70.70   \n",
       "...                     ...                        ...            ...   \n",
       "6840-RESVB              Yes               Mailed check          84.80   \n",
       "2234-XADUH              Yes    Credit card (automatic)         103.20   \n",
       "4801-JZAZL              Yes           Electronic check          29.60   \n",
       "8361-LTMKD              Yes               Mailed check          74.40   \n",
       "3186-AJIEK              Yes  Bank transfer (automatic)         105.65   \n",
       "\n",
       "           TotalCharges Churn gender_encode Partner_encode  Dependents_encode  \\\n",
       "customerID                                                                      \n",
       "7590-VHVEG        29.85    No             0              1                  0   \n",
       "5575-GNVDE      1889.50    No             1              0                  0   \n",
       "3668-QPYBK       108.15   Yes             1              0                  0   \n",
       "7795-CFOCW      1840.75    No             1              0                  0   \n",
       "9237-HQITU       151.65   Yes             0              0                  0   \n",
       "...                 ...   ...           ...            ...                ...   \n",
       "6840-RESVB      1990.50    No             1              1                  1   \n",
       "2234-XADUH      7362.90    No             0              1                  1   \n",
       "4801-JZAZL       346.45    No             0              1                  1   \n",
       "8361-LTMKD       306.60   Yes             1              1                  0   \n",
       "3186-AJIEK      6844.50    No             1              0                  0   \n",
       "\n",
       "            PhoneService_encode PaperlessBilling_encode  \n",
       "customerID                                               \n",
       "7590-VHVEG                    0                       1  \n",
       "5575-GNVDE                    1                       0  \n",
       "3668-QPYBK                    1                       1  \n",
       "7795-CFOCW                    0                       0  \n",
       "9237-HQITU                    1                       1  \n",
       "...                         ...                     ...  \n",
       "6840-RESVB                    1                       1  \n",
       "2234-XADUH                    1                       1  \n",
       "4801-JZAZL                    0                       1  \n",
       "8361-LTMKD                    1                       1  \n",
       "3186-AJIEK                    1                       1  \n",
       "\n",
       "[7032 rows x 25 columns]"
      ]
     },
     "execution_count": 16,
     "metadata": {},
     "output_type": "execute_result"
    }
   ],
   "source": [
    "# 바이너리 변수에 대한 인코딩\r\n",
    "df[\"gender_encode\"] = (df[\"gender\"] == \"Male\").astype(int)\r\n",
    "df[\"Partner_encode\"] = (df[\"Partner\"] == \"Yes\").astype(int)\r\n",
    "df[\"Dependents_encode\"] = (df[\"Dependents\"] == \"Yes\").astype(int)\r\n",
    "df[\"PhoneService_encode\"] = (df[\"PhoneService\"] == \"Yes\").astype(int)\r\n",
    "df[\"PaperlessBilling_encode\"] = (df[\"PaperlessBilling\"] == \"Yes\").astype(int)\r\n",
    "df"
   ]
  },
  {
   "cell_type": "markdown",
   "id": "395aae7a-d299-44ce-bdfc-c50de20f8528",
   "metadata": {},
   "source": [
    "## 미션1. 훈련데이터와 평가데이터 나누기"
   ]
  },
  {
   "cell_type": "code",
   "execution_count": 18,
   "id": "3bc6dcdd-3b5a-468d-875f-155a38230635",
   "metadata": {},
   "outputs": [
    {
     "data": {
      "text/plain": [
       "Index(['SeniorCitizen', 'tenure', 'MonthlyCharges', 'TotalCharges',\n",
       "       'gender_encode', 'Partner_encode', 'Dependents_encode',\n",
       "       'PhoneService_encode', 'PaperlessBilling_encode'],\n",
       "      dtype='object')"
      ]
     },
     "execution_count": 18,
     "metadata": {},
     "output_type": "execute_result"
    }
   ],
   "source": [
    "# 학습 예측에 사용할 열 추출\n",
    "feature_names = df.select_dtypes(include=\"number\").columns\n",
    "feature_names"
   ]
  },
  {
   "cell_type": "code",
   "execution_count": 19,
   "id": "3e4ad526-5951-4940-ae06-36168498eaa4",
   "metadata": {},
   "outputs": [
    {
     "data": {
      "text/html": [
       "<div>\n",
       "<style scoped>\n",
       "    .dataframe tbody tr th:only-of-type {\n",
       "        vertical-align: middle;\n",
       "    }\n",
       "\n",
       "    .dataframe tbody tr th {\n",
       "        vertical-align: top;\n",
       "    }\n",
       "\n",
       "    .dataframe thead th {\n",
       "        text-align: right;\n",
       "    }\n",
       "</style>\n",
       "<table border=\"1\" class=\"dataframe\">\n",
       "  <thead>\n",
       "    <tr style=\"text-align: right;\">\n",
       "      <th></th>\n",
       "      <th>SeniorCitizen</th>\n",
       "      <th>tenure</th>\n",
       "      <th>MonthlyCharges</th>\n",
       "      <th>TotalCharges</th>\n",
       "      <th>gender_encode</th>\n",
       "      <th>Partner_encode</th>\n",
       "      <th>Dependents_encode</th>\n",
       "      <th>PhoneService_encode</th>\n",
       "      <th>PaperlessBilling_encode</th>\n",
       "    </tr>\n",
       "    <tr>\n",
       "      <th>customerID</th>\n",
       "      <th></th>\n",
       "      <th></th>\n",
       "      <th></th>\n",
       "      <th></th>\n",
       "      <th></th>\n",
       "      <th></th>\n",
       "      <th></th>\n",
       "      <th></th>\n",
       "      <th></th>\n",
       "    </tr>\n",
       "  </thead>\n",
       "  <tbody>\n",
       "    <tr>\n",
       "      <th>7590-VHVEG</th>\n",
       "      <td>0</td>\n",
       "      <td>1</td>\n",
       "      <td>29.85</td>\n",
       "      <td>29.85</td>\n",
       "      <td>0</td>\n",
       "      <td>1</td>\n",
       "      <td>0</td>\n",
       "      <td>0</td>\n",
       "      <td>1</td>\n",
       "    </tr>\n",
       "    <tr>\n",
       "      <th>5575-GNVDE</th>\n",
       "      <td>0</td>\n",
       "      <td>34</td>\n",
       "      <td>56.95</td>\n",
       "      <td>1889.50</td>\n",
       "      <td>1</td>\n",
       "      <td>0</td>\n",
       "      <td>0</td>\n",
       "      <td>1</td>\n",
       "      <td>0</td>\n",
       "    </tr>\n",
       "  </tbody>\n",
       "</table>\n",
       "</div>"
      ],
      "text/plain": [
       "            SeniorCitizen  tenure  MonthlyCharges  TotalCharges  \\\n",
       "customerID                                                        \n",
       "7590-VHVEG              0       1           29.85         29.85   \n",
       "5575-GNVDE              0      34           56.95       1889.50   \n",
       "\n",
       "            gender_encode  Partner_encode  Dependents_encode  \\\n",
       "customerID                                                     \n",
       "7590-VHVEG              0               1                  0   \n",
       "5575-GNVDE              1               0                  0   \n",
       "\n",
       "            PhoneService_encode  PaperlessBilling_encode  \n",
       "customerID                                                \n",
       "7590-VHVEG                    0                        1  \n",
       "5575-GNVDE                    1                        0  "
      ]
     },
     "metadata": {},
     "output_type": "display_data"
    },
    {
     "data": {
      "text/html": [
       "<div>\n",
       "<style scoped>\n",
       "    .dataframe tbody tr th:only-of-type {\n",
       "        vertical-align: middle;\n",
       "    }\n",
       "\n",
       "    .dataframe tbody tr th {\n",
       "        vertical-align: top;\n",
       "    }\n",
       "\n",
       "    .dataframe thead th {\n",
       "        text-align: right;\n",
       "    }\n",
       "</style>\n",
       "<table border=\"1\" class=\"dataframe\">\n",
       "  <thead>\n",
       "    <tr style=\"text-align: right;\">\n",
       "      <th></th>\n",
       "      <th>Churn</th>\n",
       "    </tr>\n",
       "    <tr>\n",
       "      <th>customerID</th>\n",
       "      <th></th>\n",
       "    </tr>\n",
       "  </thead>\n",
       "  <tbody>\n",
       "    <tr>\n",
       "      <th>7590-VHVEG</th>\n",
       "      <td>No</td>\n",
       "    </tr>\n",
       "    <tr>\n",
       "      <th>5575-GNVDE</th>\n",
       "      <td>No</td>\n",
       "    </tr>\n",
       "  </tbody>\n",
       "</table>\n",
       "</div>"
      ],
      "text/plain": [
       "           Churn\n",
       "customerID      \n",
       "7590-VHVEG    No\n",
       "5575-GNVDE    No"
      ]
     },
     "metadata": {},
     "output_type": "display_data"
    },
    {
     "data": {
      "text/plain": [
       "((7032, 9), (7032, 1))"
      ]
     },
     "execution_count": 19,
     "metadata": {},
     "output_type": "execute_result"
    }
   ],
   "source": [
    "X = df[feature_names]\n",
    "y = df[[\"Churn\"]]\n",
    "display(X.head(2))\n",
    "display(y.head(2))\n",
    "X.shape, y.shape"
   ]
  },
  {
   "cell_type": "code",
   "execution_count": 20,
   "id": "8654aee5-a676-499b-85f2-c8cb5730cc36",
   "metadata": {},
   "outputs": [
    {
     "data": {
      "text/plain": [
       "5625"
      ]
     },
     "execution_count": 20,
     "metadata": {},
     "output_type": "execute_result"
    }
   ],
   "source": [
    "# train 과 test 로 나누기 위해 데이터를 80:20으로 나눔\n",
    "split_count = int(df.shape[0] * 0.8)\n",
    "split_count"
   ]
  },
  {
   "cell_type": "code",
   "execution_count": 22,
   "id": "fa81f454-7ae0-4659-8579-003a33c4868c",
   "metadata": {},
   "outputs": [
    {
     "data": {
      "text/plain": [
       "((5625, 9), (1407, 9), (5625, 1), (1407, 1))"
      ]
     },
     "execution_count": 22,
     "metadata": {},
     "output_type": "execute_result"
    }
   ],
   "source": [
    "# 데이터의 80:20으로 데이터(X)를 train, test로 나눔\n",
    "# 데이터의 80:20으로 정답 데이터(y)를 train, test로 나눔\n",
    "X_train = X.iloc[:split_count]\n",
    "y_train = y.iloc[:split_count]\n",
    "\n",
    "X_test = X.iloc[split_count:]\n",
    "y_test = y.iloc[split_count:]\n",
    "\n",
    "X_train.shape, X_test.shape, y_train.shape, y_test.shape"
   ]
  },
  {
   "cell_type": "markdown",
   "id": "695cca01-4af8-42e7-ac61-d55651d9e23d",
   "metadata": {},
   "source": [
    "## 미션2. 머신러닝 알고리즘 모델로 학습과 예측하기!"
   ]
  },
  {
   "cell_type": "code",
   "execution_count": 24,
   "id": "4b624e64-47d8-4d92-a328-32d389da7429",
   "metadata": {},
   "outputs": [
    {
     "data": {
      "text/html": [
       "<style>#sk-container-id-1 {color: black;}#sk-container-id-1 pre{padding: 0;}#sk-container-id-1 div.sk-toggleable {background-color: white;}#sk-container-id-1 label.sk-toggleable__label {cursor: pointer;display: block;width: 100%;margin-bottom: 0;padding: 0.3em;box-sizing: border-box;text-align: center;}#sk-container-id-1 label.sk-toggleable__label-arrow:before {content: \"▸\";float: left;margin-right: 0.25em;color: #696969;}#sk-container-id-1 label.sk-toggleable__label-arrow:hover:before {color: black;}#sk-container-id-1 div.sk-estimator:hover label.sk-toggleable__label-arrow:before {color: black;}#sk-container-id-1 div.sk-toggleable__content {max-height: 0;max-width: 0;overflow: hidden;text-align: left;background-color: #f0f8ff;}#sk-container-id-1 div.sk-toggleable__content pre {margin: 0.2em;color: black;border-radius: 0.25em;background-color: #f0f8ff;}#sk-container-id-1 input.sk-toggleable__control:checked~div.sk-toggleable__content {max-height: 200px;max-width: 100%;overflow: auto;}#sk-container-id-1 input.sk-toggleable__control:checked~label.sk-toggleable__label-arrow:before {content: \"▾\";}#sk-container-id-1 div.sk-estimator input.sk-toggleable__control:checked~label.sk-toggleable__label {background-color: #d4ebff;}#sk-container-id-1 div.sk-label input.sk-toggleable__control:checked~label.sk-toggleable__label {background-color: #d4ebff;}#sk-container-id-1 input.sk-hidden--visually {border: 0;clip: rect(1px 1px 1px 1px);clip: rect(1px, 1px, 1px, 1px);height: 1px;margin: -1px;overflow: hidden;padding: 0;position: absolute;width: 1px;}#sk-container-id-1 div.sk-estimator {font-family: monospace;background-color: #f0f8ff;border: 1px dotted black;border-radius: 0.25em;box-sizing: border-box;margin-bottom: 0.5em;}#sk-container-id-1 div.sk-estimator:hover {background-color: #d4ebff;}#sk-container-id-1 div.sk-parallel-item::after {content: \"\";width: 100%;border-bottom: 1px solid gray;flex-grow: 1;}#sk-container-id-1 div.sk-label:hover label.sk-toggleable__label {background-color: #d4ebff;}#sk-container-id-1 div.sk-serial::before {content: \"\";position: absolute;border-left: 1px solid gray;box-sizing: border-box;top: 0;bottom: 0;left: 50%;z-index: 0;}#sk-container-id-1 div.sk-serial {display: flex;flex-direction: column;align-items: center;background-color: white;padding-right: 0.2em;padding-left: 0.2em;position: relative;}#sk-container-id-1 div.sk-item {position: relative;z-index: 1;}#sk-container-id-1 div.sk-parallel {display: flex;align-items: stretch;justify-content: center;background-color: white;position: relative;}#sk-container-id-1 div.sk-item::before, #sk-container-id-1 div.sk-parallel-item::before {content: \"\";position: absolute;border-left: 1px solid gray;box-sizing: border-box;top: 0;bottom: 0;left: 50%;z-index: -1;}#sk-container-id-1 div.sk-parallel-item {display: flex;flex-direction: column;z-index: 1;position: relative;background-color: white;}#sk-container-id-1 div.sk-parallel-item:first-child::after {align-self: flex-end;width: 50%;}#sk-container-id-1 div.sk-parallel-item:last-child::after {align-self: flex-start;width: 50%;}#sk-container-id-1 div.sk-parallel-item:only-child::after {width: 0;}#sk-container-id-1 div.sk-dashed-wrapped {border: 1px dashed gray;margin: 0 0.4em 0.5em 0.4em;box-sizing: border-box;padding-bottom: 0.4em;background-color: white;}#sk-container-id-1 div.sk-label label {font-family: monospace;font-weight: bold;display: inline-block;line-height: 1.2em;}#sk-container-id-1 div.sk-label-container {text-align: center;}#sk-container-id-1 div.sk-container {/* jupyter's `normalize.less` sets `[hidden] { display: none; }` but bootstrap.min.css set `[hidden] { display: none !important; }` so we also need the `!important` here to be able to override the default hidden behavior on the sphinx rendered scikit-learn.org. See: https://github.com/scikit-learn/scikit-learn/issues/21755 */display: inline-block !important;position: relative;}#sk-container-id-1 div.sk-text-repr-fallback {display: none;}</style><div id=\"sk-container-id-1\" class=\"sk-top-container\"><div class=\"sk-text-repr-fallback\"><pre>DecisionTreeClassifier(criterion=&#x27;entropy&#x27;, max_depth=6, max_features=0.9,\n",
       "                       random_state=42)</pre><b>In a Jupyter environment, please rerun this cell to show the HTML representation or trust the notebook. <br />On GitHub, the HTML representation is unable to render, please try loading this page with nbviewer.org.</b></div><div class=\"sk-container\" hidden><div class=\"sk-item\"><div class=\"sk-estimator sk-toggleable\"><input class=\"sk-toggleable__control sk-hidden--visually\" id=\"sk-estimator-id-1\" type=\"checkbox\" checked><label for=\"sk-estimator-id-1\" class=\"sk-toggleable__label sk-toggleable__label-arrow\">DecisionTreeClassifier</label><div class=\"sk-toggleable__content\"><pre>DecisionTreeClassifier(criterion=&#x27;entropy&#x27;, max_depth=6, max_features=0.9,\n",
       "                       random_state=42)</pre></div></div></div></div></div>"
      ],
      "text/plain": [
       "DecisionTreeClassifier(criterion='entropy', max_depth=6, max_features=0.9,\n",
       "                       random_state=42)"
      ]
     },
     "execution_count": 24,
     "metadata": {},
     "output_type": "execute_result"
    }
   ],
   "source": [
    "# 모델 학습\n",
    "from sklearn.tree import DecisionTreeClassifier\n",
    "\n",
    "model = DecisionTreeClassifier(criterion=\"entropy\",\n",
    "                               max_depth=6,\n",
    "                               max_features=0.9,\n",
    "                               random_state=42)\n",
    "model.fit(X_train, y_train)"
   ]
  },
  {
   "cell_type": "code",
   "execution_count": 25,
   "id": "e581a209-61ae-4801-bff4-db66daf9c732",
   "metadata": {},
   "outputs": [
    {
     "data": {
      "text/plain": [
       "array(['No', 'No', 'No', 'No', 'No'], dtype=object)"
      ]
     },
     "execution_count": 25,
     "metadata": {},
     "output_type": "execute_result"
    }
   ],
   "source": [
    "y_predict = model.predict(X_test)\n",
    "y_predict[:5]"
   ]
  },
  {
   "cell_type": "markdown",
   "id": "d441393f-b821-46ea-9369-16b0eb37c84a",
   "metadata": {},
   "source": [
    "## 미션3. 점수 측정하고 피처의 중요도 시각화"
   ]
  },
  {
   "cell_type": "code",
   "execution_count": 26,
   "id": "cab60b1f-209d-46fb-86b2-41386f806d5a",
   "metadata": {},
   "outputs": [
    {
     "data": {
      "text/plain": [
       "[Text(0.5, 0.9, 'tenure <= 19.5\\nentropy = 0.834\\nsamples = 5625\\nvalue = [4137, 1488]\\nclass = No'),\n",
       " Text(0.25, 0.7, 'MonthlyCharges <= 68.425\\nentropy = 0.989\\nsamples = 2242\\nvalue = [1258, 984]\\nclass = No'),\n",
       " Text(0.125, 0.5, 'tenure <= 3.5\\nentropy = 0.854\\nsamples = 1223\\nvalue = [882, 341]\\nclass = No'),\n",
       " Text(0.0625, 0.3, 'MonthlyCharges <= 20.875\\nentropy = 0.985\\nsamples = 487\\nvalue = [279, 208]\\nclass = No'),\n",
       " Text(0.03125, 0.1, '\\n  (...)  \\n'),\n",
       " Text(0.09375, 0.1, '\\n  (...)  \\n'),\n",
       " Text(0.1875, 0.3, 'MonthlyCharges <= 27.425\\nentropy = 0.682\\nsamples = 736\\nvalue = [603, 133]\\nclass = No'),\n",
       " Text(0.15625, 0.1, '\\n  (...)  \\n'),\n",
       " Text(0.21875, 0.1, '\\n  (...)  \\n'),\n",
       " Text(0.375, 0.5, 'TotalCharges <= 120.0\\nentropy = 0.95\\nsamples = 1019\\nvalue = [376, 643]\\nclass = Yes'),\n",
       " Text(0.3125, 0.3, 'TotalCharges <= 69.875\\nentropy = 0.672\\nsamples = 187\\nvalue = [33, 154]\\nclass = Yes'),\n",
       " Text(0.28125, 0.1, '\\n  (...)  \\n'),\n",
       " Text(0.34375, 0.1, '\\n  (...)  \\n'),\n",
       " Text(0.4375, 0.3, 'MonthlyCharges <= 73.675\\nentropy = 0.978\\nsamples = 832\\nvalue = [343, 489]\\nclass = Yes'),\n",
       " Text(0.40625, 0.1, '\\n  (...)  \\n'),\n",
       " Text(0.46875, 0.1, '\\n  (...)  \\n'),\n",
       " Text(0.75, 0.7, 'MonthlyCharges <= 69.975\\nentropy = 0.607\\nsamples = 3383\\nvalue = [2879, 504]\\nclass = No'),\n",
       " Text(0.625, 0.5, 'MonthlyCharges <= 28.55\\nentropy = 0.319\\nsamples = 1435\\nvalue = [1352, 83]\\nclass = No'),\n",
       " Text(0.5625, 0.3, 'tenure <= 61.5\\nentropy = 0.116\\nsamples = 706\\nvalue = [695, 11]\\nclass = No'),\n",
       " Text(0.53125, 0.1, '\\n  (...)  \\n'),\n",
       " Text(0.59375, 0.1, '\\n  (...)  \\n'),\n",
       " Text(0.6875, 0.3, 'tenure <= 60.5\\nentropy = 0.465\\nsamples = 729\\nvalue = [657, 72]\\nclass = No'),\n",
       " Text(0.65625, 0.1, '\\n  (...)  \\n'),\n",
       " Text(0.71875, 0.1, '\\n  (...)  \\n'),\n",
       " Text(0.875, 0.5, 'TotalCharges <= 3764.7\\nentropy = 0.753\\nsamples = 1948\\nvalue = [1527, 421]\\nclass = No'),\n",
       " Text(0.8125, 0.3, 'PaperlessBilling_encode <= 0.5\\nentropy = 0.934\\nsamples = 660\\nvalue = [429, 231]\\nclass = No'),\n",
       " Text(0.78125, 0.1, '\\n  (...)  \\n'),\n",
       " Text(0.84375, 0.1, '\\n  (...)  \\n'),\n",
       " Text(0.9375, 0.3, 'tenure <= 70.5\\nentropy = 0.604\\nsamples = 1288\\nvalue = [1098, 190]\\nclass = No'),\n",
       " Text(0.90625, 0.1, '\\n  (...)  \\n'),\n",
       " Text(0.96875, 0.1, '\\n  (...)  \\n')]"
      ]
     },
     "execution_count": 26,
     "metadata": {},
     "output_type": "execute_result"
    },
    {
     "data": {
      "image/png": "[encoded data removed]",
      "text/plain": [
       "<Figure size 2000x1000 with 1 Axes>"
      ]
     },
     "metadata": {},
     "output_type": "display_data"
    }
   ],
   "source": [
    "# 네트워크 시각화\n",
    "from sklearn.tree import plot_tree\n",
    "plt.figure(figsize=(20, 10))\n",
    "plot_tree(model, filled=True, feature_names=X_train.columns, class_names=['No','Yes'], max_depth=3)"
   ]
  },
  {
   "cell_type": "code",
   "execution_count": 30,
   "id": "e6cfcd52-07e2-4b93-bda6-b3153a02274f",
   "metadata": {},
   "outputs": [
    {
     "name": "stderr",
     "output_type": "stream",
     "text": [
      "/tmp/ipykernel_9474/2619136544.py:2: FutureWarning: \n",
      "\n",
      "Passing `palette` without assigning `hue` is deprecated and will be removed in v0.14.0. Assign the `y` variable to `hue` and set `legend=False` for the same effect.\n",
      "\n",
      "  sns.barplot(x=model.feature_importances_, y=feature_names,palette='viridis')\n"
     ]
    },
    {
     "data": {
      "text/plain": [
       "<Axes: ylabel='None'>"
      ]
     },
     "execution_count": 30,
     "metadata": {},
     "output_type": "execute_result"
    },
    {
     "data": {
      "image/png": "[encoded data removed]",
      "text/plain": [
       "<Figure size 640x480 with 1 Axes>"
      ]
     },
     "metadata": {},
     "output_type": "display_data"
    }
   ],
   "source": [
    "# 피처의 중요도 시각화\n",
    "sns.barplot(x=model.feature_importances_, y=feature_names,palette='viridis')"
   ]
  },
  {
   "cell_type": "code",
   "execution_count": 31,
   "id": "e7f41aea-2b1b-4bc1-ab80-a4f2f4fd949e",
   "metadata": {},
   "outputs": [
    {
     "data": {
      "text/plain": [
       "0.7896233120113717"
      ]
     },
     "execution_count": 31,
     "metadata": {},
     "output_type": "execute_result"
    }
   ],
   "source": [
    "# 예측과 실제 정답으로 정확도 확인\n",
    "from sklearn.metrics import accuracy_score\n",
    "accuracy_score(y_test, y_predict)"
   ]
  }
 ],
 "metadata": {
  "kernelspec": {
   "display_name": "Python 3 (ipykernel)",
   "language": "python",
   "name": "python3"
  },
  "language_info": {
   "codemirror_mode": {
    "name": "ipython",
    "version": 3
   },
   "file_extension": ".py",
   "mimetype": "text/x-python",
   "name": "python",
   "nbconvert_exporter": "python",
   "pygments_lexer": "ipython3",
   "version": "3.10.13"
  }
 },
 "nbformat": 4,
 "nbformat_minor": 5
}
