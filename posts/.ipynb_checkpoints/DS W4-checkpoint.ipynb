{
 "cells": [
  {
   "cell_type": "raw",
   "id": "9a0f5c5f-bf5d-4e4c-b30a-fc1195e5a21a",
   "metadata": {},
   "source": [
    "---\n",
    "title: \"Data Science Week3\"\n",
    "author: \"유성준\"\n",
    "date: \"01/30/2024\"\n",
    "categories: [Machine Learning, Python] \n",
    "---"
   ]
  },
  {
   "cell_type": "markdown",
   "id": "9ed37a88-cbdf-4feb-8a08-562762e8d231",
   "metadata": {},
   "source": [
    "## 확인\n",
    "\n",
    "- 현재 연습 중입니다. "
   ]
  }
 ],
 "metadata": {
  "kernelspec": {
   "display_name": "Python 3 (ipykernel)",
   "language": "python",
   "name": "python3"
  },
  "language_info": {
   "codemirror_mode": {
    "name": "ipython",
    "version": 3
   },
   "file_extension": ".py",
   "mimetype": "text/x-python",
   "name": "python",
   "nbconvert_exporter": "python",
   "pygments_lexer": "ipython3",
   "version": "3.10.13"
  }
 },
 "nbformat": 4,
 "nbformat_minor": 5
}
